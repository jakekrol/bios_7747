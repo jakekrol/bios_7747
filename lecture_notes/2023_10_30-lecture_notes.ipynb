{
 "cells": [
  {
   "cell_type": "markdown",
   "metadata": {},
   "source": [
    "# 2023 10 30"
   ]
  },
  {
   "cell_type": "markdown",
   "metadata": {},
   "source": [
    "Jade RMNMF\n",
    "\n",
    "Non-negative matrix factorization (NMF) (dimensionality reduction)\n",
    "\n",
    "U: basis matrix\n",
    "V: coefficient matrix\n",
    "\n",
    "NMF performs well on \"single-view\" datasets, not well on \"multi-view\" datasets\n",
    "\n",
    "Robust multi-view NMF\n",
    "\n",
    "Objective func:\n",
    "Minimize -> Use frobenius norm to compare the data matrix and the product of the (U * V)\n",
    "\n",
    "Use laplacian graph relational structure to capture relationships encoded in the coefficient matrix\n",
    "\n",
    "\n",
    "\n",
    "\n"
   ]
  },
  {
   "cell_type": "markdown",
   "metadata": {},
   "source": [
    "Karla Quantitative discriminant analysis for find the elbow of clustering methods\n",
    "\n",
    "Limitations of the elbow point (if metric is smoothly dec as K increases, then it's not clear)\n",
    "\n",
    "Use 3 point angle at K to find optimal clusters\n"
   ]
  },
  {
   "cell_type": "markdown",
   "metadata": {},
   "source": [
    "Aaron spectral clustering\n",
    "\n",
    "Graph based approach\n",
    "\n",
    "Vertices are individual data points\n",
    "\n",
    "Edges connect data points \n",
    " - affinity: \n",
    "    - KNN\n",
    "    - Use epsilon neighborhood\n",
    "    - Fully connected graph (pairwise similarity)\n",
    "\n",
    "Laplacian = Degree Mat (degree of each vertex) - Adjacency Mat (1s where there are edges)\n",
    "\n",
    "The resultant laplacian has the degree on diagonal and -1s where the adjacency matrix was one\n",
    "\n",
    "\n",
    "\n"
   ]
  }
 ],
 "metadata": {
  "kernelspec": {
   "display_name": ".venv",
   "language": "python",
   "name": "python3"
  },
  "language_info": {
   "name": "python",
   "version": "3.9.15"
  }
 },
 "nbformat": 4,
 "nbformat_minor": 2
}
