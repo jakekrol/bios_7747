{
 "cells": [
  {
   "cell_type": "markdown",
   "metadata": {},
   "source": [
    "# BIOS 7747 Lecture Notes"
   ]
  },
  {
   "cell_type": "markdown",
   "metadata": {},
   "source": [
    "## 2023-08-30\n",
    "\n",
    "- Intro to numpy, pandas & matplotlib\n",
    "- Reading and writing python objects\n",
    "  - `shelve`\n",
    "  - `df.to_excel`\n",
    "  - `pd.read_excel`\n"
   ]
  },
  {
   "cell_type": "code",
   "execution_count": 14,
   "metadata": {},
   "outputs": [],
   "source": [
    "import numpy as np\n",
    "import pandas as pd\n",
    "import shelve\n",
    "import matplotlib.pyplot as plt"
   ]
  },
  {
   "cell_type": "markdown",
   "metadata": {},
   "source": [
    "### numpy: arrays"
   ]
  },
  {
   "cell_type": "code",
   "execution_count": null,
   "metadata": {},
   "outputs": [],
   "source": [
    "# plain array object constructor\n",
    "#a_obj =  np.ndarray(shape=)\n",
    "a = np.array([1,2,3], dtype = np.float32)\n",
    "a = np.zeros((5, 20), dtype  = np.float32)\n",
    "a = np.full((5,20), 5, dtype = np.float32)\n",
    "\n",
    "# helper attr for getting dimensions\n",
    "print(f\"size = {a.ndim}\")\n",
    "# attr for total number of elements\n",
    "print(f\"a.size= {a.size}\")\n",
    "print(f\"dtype = {a.dtype}\")\n",
    "\n",
    "\n",
    "\n",
    "\n"
   ]
  },
  {
   "cell_type": "code",
   "execution_count": 43,
   "metadata": {},
   "outputs": [
    {
     "data": {
      "text/plain": [
       "array([[ -49,   48,   55,  -57,   21],\n",
       "       [  86,    0,    0,    0,    0],\n",
       "       [   0,    0,    0,    0,    0],\n",
       "       [   0, -124, -124, -101,  110],\n",
       "       [ 119, -105,   32,   64,    0]], dtype=int8)"
      ]
     },
     "execution_count": 43,
     "metadata": {},
     "output_type": "execute_result"
    }
   ],
   "source": [
    "# a low level method for initializing arrays\n",
    "ndarr = np.ndarray(shape = (5, 5), dtype = np.int8)\n",
    "ndarr"
   ]
  },
  {
   "cell_type": "code",
   "execution_count": 44,
   "metadata": {},
   "outputs": [
    {
     "data": {
      "text/plain": [
       "array([1., 2., 3.], dtype=float32)"
      ]
     },
     "execution_count": 44,
     "metadata": {},
     "output_type": "execute_result"
    }
   ],
   "source": [
    "# basic 1d array\n",
    "arr = np.array([1,2,3], dtype = np.float32)\n",
    "arr"
   ]
  },
  {
   "cell_type": "code",
   "execution_count": 47,
   "metadata": {},
   "outputs": [
    {
     "data": {
      "text/plain": [
       "array([[0., 0., 0., 0., 0., 0., 0., 0., 0., 0., 0., 0., 0., 0., 0., 0.,\n",
       "        0., 0., 0., 0.],\n",
       "       [0., 0., 0., 0., 0., 0., 0., 0., 0., 0., 0., 0., 0., 0., 0., 0.,\n",
       "        0., 0., 0., 0.],\n",
       "       [0., 0., 0., 0., 0., 0., 0., 0., 0., 0., 0., 0., 0., 0., 0., 0.,\n",
       "        0., 0., 0., 0.],\n",
       "       [0., 0., 0., 0., 0., 0., 0., 0., 0., 0., 0., 0., 0., 0., 0., 0.,\n",
       "        0., 0., 0., 0.],\n",
       "       [0., 0., 0., 0., 0., 0., 0., 0., 0., 0., 0., 0., 0., 0., 0., 0.,\n",
       "        0., 0., 0., 0.]], dtype=float32)"
      ]
     },
     "execution_count": 47,
     "metadata": {},
     "output_type": "execute_result"
    }
   ],
   "source": [
    "# 5 x 20 array filled with zeros\n",
    "arr_zeros = np.zeros((5, 20), dtype  = np.float32)\n",
    "arr_zeros"
   ]
  },
  {
   "cell_type": "code",
   "execution_count": 49,
   "metadata": {},
   "outputs": [
    {
     "data": {
      "text/plain": [
       "array([[5., 5., 5., 5., 5., 5., 5., 5., 5., 5., 5., 5., 5., 5., 5., 5.,\n",
       "        5., 5., 5., 5.],\n",
       "       [5., 5., 5., 5., 5., 5., 5., 5., 5., 5., 5., 5., 5., 5., 5., 5.,\n",
       "        5., 5., 5., 5.],\n",
       "       [5., 5., 5., 5., 5., 5., 5., 5., 5., 5., 5., 5., 5., 5., 5., 5.,\n",
       "        5., 5., 5., 5.],\n",
       "       [5., 5., 5., 5., 5., 5., 5., 5., 5., 5., 5., 5., 5., 5., 5., 5.,\n",
       "        5., 5., 5., 5.],\n",
       "       [5., 5., 5., 5., 5., 5., 5., 5., 5., 5., 5., 5., 5., 5., 5., 5.,\n",
       "        5., 5., 5., 5.]], dtype=float32)"
      ]
     },
     "execution_count": 49,
     "metadata": {},
     "output_type": "execute_result"
    }
   ],
   "source": [
    "# 5 x20 array filled with 5\n",
    "arr_5 = np.full((5,20), 5, dtype = np.float32)\n",
    "arr_5"
   ]
  },
  {
   "cell_type": "code",
   "execution_count": 50,
   "metadata": {},
   "outputs": [
    {
     "data": {
      "text/plain": [
       "2"
      ]
     },
     "execution_count": 50,
     "metadata": {},
     "output_type": "execute_result"
    }
   ],
   "source": [
    "# get number of dimensions\n",
    "arr_5.ndim"
   ]
  },
  {
   "cell_type": "code",
   "execution_count": 52,
   "metadata": {},
   "outputs": [
    {
     "data": {
      "text/plain": [
       "(5, 20)"
      ]
     },
     "execution_count": 52,
     "metadata": {},
     "output_type": "execute_result"
    }
   ],
   "source": [
    "# get shape (tuple of length in each dimension)\n",
    "arr_5.shape"
   ]
  },
  {
   "cell_type": "code",
   "execution_count": 53,
   "metadata": {},
   "outputs": [
    {
     "data": {
      "text/plain": [
       "100"
      ]
     },
     "execution_count": 53,
     "metadata": {},
     "output_type": "execute_result"
    }
   ],
   "source": [
    "# get total num of elements\n",
    "arr_5.size"
   ]
  },
  {
   "cell_type": "code",
   "execution_count": 55,
   "metadata": {},
   "outputs": [
    {
     "data": {
      "text/plain": [
       "dtype('float32')"
      ]
     },
     "execution_count": 55,
     "metadata": {},
     "output_type": "execute_result"
    }
   ],
   "source": [
    "# get data type of arr elements\n",
    "arr_5.dtype"
   ]
  },
  {
   "cell_type": "markdown",
   "metadata": {},
   "source": [
    "### numpy: np.random"
   ]
  },
  {
   "cell_type": "code",
   "execution_count": 85,
   "metadata": {},
   "outputs": [
    {
     "name": "stdout",
     "output_type": "stream",
     "text": [
      "(5, 20) -0.09263963159283368 2.424635399776611\n"
     ]
    }
   ],
   "source": [
    "# random normal dist\n",
    "arr_normal = np.random.normal(loc = 0, scale = 1, size = (5,20))\n",
    "print(arr_normal.shape, arr_normal.mean(), arr_normal.max())"
   ]
  },
  {
   "cell_type": "code",
   "execution_count": 86,
   "metadata": {},
   "outputs": [
    {
     "name": "stdout",
     "output_type": "stream",
     "text": [
      "(5, 20) (15, 20)\n"
     ]
    }
   ],
   "source": [
    "# random uniform\n",
    "arr_uniform_1 = np.random.random((5,20))\n",
    "arr_uniform_2 = np.random.random((15,20))\n",
    "print(arr_uniform_1.shape, arr_uniform_2.shape)"
   ]
  },
  {
   "cell_type": "markdown",
   "metadata": {},
   "source": [
    "### numpy: matrix multiplication\n",
    "\n",
    "MxN * NxP = MxP"
   ]
  },
  {
   "cell_type": "code",
   "execution_count": 91,
   "metadata": {},
   "outputs": [
    {
     "name": "stdout",
     "output_type": "stream",
     "text": [
      "(5, 15) 4.644011149333807 6.696483165009798\n"
     ]
    }
   ],
   "source": [
    "# matrix multiplication\n",
    "arr_uniform_mult = arr_uniform_1 @ arr_uniform_2.T\n",
    "print(arr_uniform_mult.shape, arr_uniform_mult.mean(), arr_uniform_mult.max())"
   ]
  },
  {
   "cell_type": "code",
   "execution_count": 93,
   "metadata": {},
   "outputs": [
    {
     "name": "stdout",
     "output_type": "stream",
     "text": [
      "[[ 0.17287277  0.19143719  0.18408448 -0.40308956 -0.22642406]\n",
      " [ 0.23534298 -0.06589723 -0.2023889  -0.14509462  0.18335721]\n",
      " [-0.42841428 -0.0244924   0.43300585 -0.39531287  0.33848244]\n",
      " [ 0.10449012 -0.14834668 -0.28729817  0.27312406  0.14516673]\n",
      " [-0.04208225  0.19429205  0.15712618 -0.01964736 -0.29671466]\n",
      " [-0.25536117  0.38934445  0.2630418  -0.13106314 -0.30895121]\n",
      " [-0.16628362 -0.00954138 -0.21271772  0.19650865  0.25966334]\n",
      " [ 0.27953019 -0.10249494 -0.25225306 -0.03448978  0.13908109]\n",
      " [-0.1534104   0.20685236 -0.12921591  0.08651178  0.0186098 ]\n",
      " [ 0.19331622 -0.10263065 -0.11649478  0.03920739  0.01726478]\n",
      " [-0.10013328 -0.36619247 -0.01860385  0.37242907  0.21074742]\n",
      " [-0.18481231  0.4716228   0.26008639 -0.39420553 -0.24736468]\n",
      " [ 0.25972885 -0.41694272 -0.03564229  0.30927635 -0.03163312]\n",
      " [-0.03091023 -0.1051874   0.04138998 -0.0281424   0.13419693]\n",
      " [ 0.07299394 -0.180194   -0.09369833  0.41599825 -0.11494537]]\n"
     ]
    }
   ],
   "source": [
    "d = np.linalg.pinv(arr_uniform_mult)\n",
    "print(d)"
   ]
  },
  {
   "cell_type": "code",
   "execution_count": 94,
   "metadata": {},
   "outputs": [
    {
     "data": {
      "text/plain": [
       "\u001b[0;31mSignature:\u001b[0m       \u001b[0mnp\u001b[0m\u001b[0;34m.\u001b[0m\u001b[0mlinalg\u001b[0m\u001b[0;34m.\u001b[0m\u001b[0mpinv\u001b[0m\u001b[0;34m(\u001b[0m\u001b[0ma\u001b[0m\u001b[0;34m,\u001b[0m \u001b[0mrcond\u001b[0m\u001b[0;34m=\u001b[0m\u001b[0;36m1e-15\u001b[0m\u001b[0;34m,\u001b[0m \u001b[0mhermitian\u001b[0m\u001b[0;34m=\u001b[0m\u001b[0;32mFalse\u001b[0m\u001b[0;34m)\u001b[0m\u001b[0;34m\u001b[0m\u001b[0;34m\u001b[0m\u001b[0m\n",
       "\u001b[0;31mCall signature:\u001b[0m  \u001b[0mnp\u001b[0m\u001b[0;34m.\u001b[0m\u001b[0mlinalg\u001b[0m\u001b[0;34m.\u001b[0m\u001b[0mpinv\u001b[0m\u001b[0;34m(\u001b[0m\u001b[0;34m*\u001b[0m\u001b[0margs\u001b[0m\u001b[0;34m,\u001b[0m \u001b[0;34m**\u001b[0m\u001b[0mkwargs\u001b[0m\u001b[0;34m)\u001b[0m\u001b[0;34m\u001b[0m\u001b[0;34m\u001b[0m\u001b[0m\n",
       "\u001b[0;31mType:\u001b[0m            _ArrayFunctionDispatcher\n",
       "\u001b[0;31mString form:\u001b[0m     <function pinv at 0x7fd3b1eb2820>\n",
       "\u001b[0;31mFile:\u001b[0m            ~/ghub/bios_7747/.venv/lib/python3.9/site-packages/numpy/linalg/linalg.py\n",
       "\u001b[0;31mDocstring:\u001b[0m      \n",
       "Compute the (Moore-Penrose) pseudo-inverse of a matrix.\n",
       "\n",
       "Calculate the generalized inverse of a matrix using its\n",
       "singular-value decomposition (SVD) and including all\n",
       "*large* singular values.\n",
       "\n",
       ".. versionchanged:: 1.14\n",
       "   Can now operate on stacks of matrices\n",
       "\n",
       "Parameters\n",
       "----------\n",
       "a : (..., M, N) array_like\n",
       "    Matrix or stack of matrices to be pseudo-inverted.\n",
       "rcond : (...) array_like of float\n",
       "    Cutoff for small singular values.\n",
       "    Singular values less than or equal to\n",
       "    ``rcond * largest_singular_value`` are set to zero.\n",
       "    Broadcasts against the stack of matrices.\n",
       "hermitian : bool, optional\n",
       "    If True, `a` is assumed to be Hermitian (symmetric if real-valued),\n",
       "    enabling a more efficient method for finding singular values.\n",
       "    Defaults to False.\n",
       "\n",
       "    .. versionadded:: 1.17.0\n",
       "\n",
       "Returns\n",
       "-------\n",
       "B : (..., N, M) ndarray\n",
       "    The pseudo-inverse of `a`. If `a` is a `matrix` instance, then so\n",
       "    is `B`.\n",
       "\n",
       "Raises\n",
       "------\n",
       "LinAlgError\n",
       "    If the SVD computation does not converge.\n",
       "\n",
       "See Also\n",
       "--------\n",
       "scipy.linalg.pinv : Similar function in SciPy.\n",
       "scipy.linalg.pinvh : Compute the (Moore-Penrose) pseudo-inverse of a\n",
       "                     Hermitian matrix.\n",
       "\n",
       "Notes\n",
       "-----\n",
       "The pseudo-inverse of a matrix A, denoted :math:`A^+`, is\n",
       "defined as: \"the matrix that 'solves' [the least-squares problem]\n",
       ":math:`Ax = b`,\" i.e., if :math:`\\bar{x}` is said solution, then\n",
       ":math:`A^+` is that matrix such that :math:`\\bar{x} = A^+b`.\n",
       "\n",
       "It can be shown that if :math:`Q_1 \\Sigma Q_2^T = A` is the singular\n",
       "value decomposition of A, then\n",
       ":math:`A^+ = Q_2 \\Sigma^+ Q_1^T`, where :math:`Q_{1,2}` are\n",
       "orthogonal matrices, :math:`\\Sigma` is a diagonal matrix consisting\n",
       "of A's so-called singular values, (followed, typically, by\n",
       "zeros), and then :math:`\\Sigma^+` is simply the diagonal matrix\n",
       "consisting of the reciprocals of A's singular values\n",
       "(again, followed by zeros). [1]_\n",
       "\n",
       "References\n",
       "----------\n",
       ".. [1] G. Strang, *Linear Algebra and Its Applications*, 2nd Ed., Orlando,\n",
       "       FL, Academic Press, Inc., 1980, pp. 139-142.\n",
       "\n",
       "Examples\n",
       "--------\n",
       "The following example checks that ``a * a+ * a == a`` and\n",
       "``a+ * a * a+ == a+``:\n",
       "\n",
       ">>> a = np.random.randn(9, 6)\n",
       ">>> B = np.linalg.pinv(a)\n",
       ">>> np.allclose(a, np.dot(a, np.dot(B, a)))\n",
       "True\n",
       ">>> np.allclose(B, np.dot(B, np.dot(a, B)))\n",
       "True\n",
       "\u001b[0;31mClass docstring:\u001b[0m\n",
       "Class to wrap functions with checks for __array_function__ overrides.\n",
       "\n",
       "All arguments are required, and can only be passed by position.\n",
       "\n",
       "Parameters\n",
       "----------\n",
       "dispatcher : function or None\n",
       "    The dispatcher function that returns a single sequence-like object\n",
       "    of all arguments relevant.  It must have the same signature (except\n",
       "    the default values) as the actual implementation.\n",
       "    If ``None``, this is a ``like=`` dispatcher and the\n",
       "    ``_ArrayFunctionDispatcher`` must be called with ``like`` as the\n",
       "    first (additional and positional) argument.\n",
       "implementation : function\n",
       "    Function that implements the operation on NumPy arrays without\n",
       "    overrides.  Arguments passed calling the ``_ArrayFunctionDispatcher``\n",
       "    will be forwarded to this (and the ``dispatcher``) as if using\n",
       "    ``*args, **kwargs``.\n",
       "\n",
       "Attributes\n",
       "----------\n",
       "_implementation : function\n",
       "    The original implementation passed in."
      ]
     },
     "metadata": {},
     "output_type": "display_data"
    }
   ],
   "source": [
    "?np.linalg.pinv"
   ]
  },
  {
   "cell_type": "code",
   "execution_count": 8,
   "metadata": {},
   "outputs": [
    {
     "name": "stdout",
     "output_type": "stream",
     "text": [
      "[ 0  3  4  6  8  9 11]\n",
      "(7, 75)\n"
     ]
    }
   ],
   "source": [
    "a = np.array([1,0,0,1,1,0,1,0,1,1,0,1], dtype = np.int8)\n",
    "# get the indices of arrray that satisify a condition\n",
    "positiveIndices = np.argwhere(a == 1).ravel() # use ravel to flatten matrix to vector\n",
    "print(positiveIndices)\n",
    "\n",
    "featureMatrix = np.random.normal(0, 1, size = (12, 75))\n",
    "# index using a mask to get the postive samples\n",
    "positiveFeatures = featureMatrix[positiveIndices, :]\n",
    "print(positiveFeatures.shape)"
   ]
  },
  {
   "cell_type": "code",
   "execution_count": 9,
   "metadata": {},
   "outputs": [
    {
     "name": "stdout",
     "output_type": "stream",
     "text": [
      "    BMI  Height\n",
      "0     1       1\n",
      "1     0       4\n",
      "2     0       5\n",
      "3     1       1\n",
      "4     1       1\n",
      "5     0       7\n",
      "6     1       1\n",
      "7     0       9\n",
      "8     1       1\n",
      "9     1       1\n",
      "10    0       6\n",
      "11    1       1\n"
     ]
    }
   ],
   "source": [
    "a = np.array([1,0,0,1,1,0,1,0,1,1,0,1], dtype = np.int8)\n",
    "b = np.array([1,4,5,1,1,7,1,9,1,1,6,1], dtype = np.int8)\n",
    "\n",
    "df = pd.DataFrame({'BMI': a, 'Height': b})\n",
    "df\n",
    "df.to_excel('data.xlsx', index = False)\n",
    "\n",
    "df2 = pd.read_excel('data.xlsx')\n",
    "print(df2)\n"
   ]
  },
  {
   "cell_type": "code",
   "execution_count": 10,
   "metadata": {},
   "outputs": [],
   "source": [
    "# writing python objects with shelve\n",
    "\n",
    "with shelve.open('database') as shelveFile:\n",
    "    shelveFile['BMI'] = a\n",
    "    shelveFile['Height'] = b\n",
    "    "
   ]
  },
  {
   "cell_type": "code",
   "execution_count": 11,
   "metadata": {},
   "outputs": [
    {
     "name": "stdout",
     "output_type": "stream",
     "text": [
      "[1 0 0 1 1 0 1 0 1 1 0 1] [1 4 5 1 1 7 1 9 1 1 6 1]\n"
     ]
    }
   ],
   "source": [
    "# reading python objects with shelve\n",
    "\n",
    "with shelve.open('database', 'r') as shelveFile:\n",
    "    a_new = shelveFile['BMI']\n",
    "    b_new = shelveFile['Height']\n",
    "\n",
    "print(a_new,b_new)"
   ]
  },
  {
   "cell_type": "code",
   "execution_count": 12,
   "metadata": {},
   "outputs": [
    {
     "data": {
      "image/png": "[encoded data removed]",
      "text/plain": [
       "<Figure size 640x480 with 1 Axes>"
      ]
     },
     "metadata": {},
     "output_type": "display_data"
    }
   ],
   "source": [
    "# matplotlib\n",
    "\n",
    "a = np.array(np.random.uniform(0, 10, size = 10))\n",
    "x = np.linspace(0, 100, a.size)\n",
    "\n",
    "plt.plot(a, x, '*')\n",
    "plt.title(\"title\")\n",
    "plt.xlabel('a')\n",
    "plt.xlabel('x')\n",
    "plt.legend(['legend'])\n",
    "plt.show()"
   ]
  },
  {
   "cell_type": "markdown",
   "metadata": {},
   "source": [
    "# 2023-09-06\n",
    "\n",
    "AI algorithm heirarchy:\n",
    "\n",
    "- narrow: solve specific problems\n",
    "- general: solve variety of problems\n",
    "- super: exceed human intelligence\n",
    "\n",
    "Ethics in algorithm development:\n",
    "\n",
    "- Features chosen can have indirect ethical consequences\n",
    "\n",
    "example: using healthcare spending as a predictor for needing more resources; if healthcare spending is predominately applied to certain communities versus others, then this becomes a feed forward algorithm which will miss under-represented groups.\n",
    "\n",
    "*Data bias*:\n",
    "\n",
    "example: genomic datasets are predominately collected from NA (specifically 3 states of America)\n",
    "\n",
    "*Impossibility theoerm*:\n",
    "\n",
    "No statistical method can solve fairness in data and algorithm design\n",
    "\n",
    "*Reporting bias*:\n",
    "\n",
    "Only reporting data that supports hypothesis; excluding data that may disprove or unfavor the hypothesis\n",
    "\n",
    "*Anchoring bias*:\n",
    "\n",
    "Establishing a hypothesis and seeking data to support that hypothesis \n",
    "\n",
    "*Automation bias*:\n",
    "\n",
    "The human choice can be influenced heavily be recommendation algorithms. Clinicians under pressure have to exert more energy to work against the algorithm\n",
    "\n",
    "*Privlege bias*:\n",
    "Access to algorithms is only available to a subset of people\n",
    "\n",
    "*Bias*: who is left out in the data? \n",
    "\n",
    "Dissemination and implementation (D&I): use the method for the _right_ people, not just the most people\n",
    "\n",
    "*Tools*\n",
    "\n",
    "Influence the way we think and what we do\n",
    "\n",
    "Example: hospitals that implement a survelliance system for monitoring whether doctor's wash their hands in between room visits; then, the hospitals could be designed to gather more data for this tool\n",
    "\n",
    "\n",
    "\n"
   ]
  },
  {
   "cell_type": "markdown",
   "metadata": {},
   "source": [
    "## 2023_09_13\n",
    "\n",
    "- LR: can use sklearn or stats.models\n",
    "- Use Blat-Altman plot \n",
    "\n",
    "- For non-linear approach, use scipy\n",
    "\n",
    "\n"
   ]
  },
  {
   "cell_type": "markdown",
   "metadata": {},
   "source": [
    "## 2023_09_18"
   ]
  }
 ],
 "metadata": {
  "kernelspec": {
   "display_name": "Python 3 (ipykernel)",
   "language": "python",
   "name": "python3"
  },
  "language_info": {
   "codemirror_mode": {
    "name": "ipython",
    "version": 3
   },
   "file_extension": ".py",
   "mimetype": "text/x-python",
   "name": "python",
   "nbconvert_exporter": "python",
   "pygments_lexer": "ipython3",
   "version": "3.9.15"
  }
 },
 "nbformat": 4,
 "nbformat_minor": 4
}
